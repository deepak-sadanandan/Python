{
 "cells": [
  {
   "cell_type": "code",
   "execution_count": null,
   "metadata": {},
   "outputs": [],
   "source": [
    "l1=[1,2,3,4,5,6]\n",
    "l2=[10,20,30,40,50]\n",
    "\n",
    "sm=[]\n",
    "\n",
    "for i,j in zip(l1,l2):\n",
    "    sm.append(i+j)\n",
    "    \n",
    "print(sm)"
   ]
  },
  {
   "cell_type": "code",
   "execution_count": 38,
   "metadata": {},
   "outputs": [
    {
     "name": "stdout",
     "output_type": "stream",
     "text": [
      "[(0, 'Mango'), (1, 'Lemon'), (2, 'Fruit')]\n",
      "<enumerate object at 0x00000172268F23A8>\n",
      "1 Mango\n",
      "2 Lemon\n",
      "3 Fruit\n"
     ]
    }
   ],
   "source": [
    "l3 = ['Mango','Lemon','Fruit']\n",
    "\n",
    "print(list(enumerate(l3)))\n",
    "\n",
    "print(enumerate(l3))\n",
    "\n",
    "for i,j in enumerate(l3):\n",
    "    print(i+1,j)"
   ]
  },
  {
   "cell_type": "code",
   "execution_count": 12,
   "metadata": {},
   "outputs": [
    {
     "name": "stdout",
     "output_type": "stream",
     "text": [
      "[1, 2, 3, 4, 5, 6]\n",
      "<generator object <genexpr> at 0x000001722648E390>\n",
      "<generator object <genexpr> at 0x000001722648E408>\n"
     ]
    }
   ],
   "source": [
    "# Comprehension\n",
    "\n",
    "a=[1,2,3,4,5,6]\n",
    "\n",
    "print(a)\n",
    "b=(i**2 for i in a)\n",
    "print (b)\n",
    "\n",
    "print((i**2 for i in a))"
   ]
  },
  {
   "cell_type": "code",
   "execution_count": 15,
   "metadata": {},
   "outputs": [
    {
     "name": "stdout",
     "output_type": "stream",
     "text": [
      "[1, 2, 3, 4, 5, 6, 5]\n",
      "[1, 4, 9, 16, 25, 36, 25]\n",
      "{1, 4, 36, 9, 16, 25}\n"
     ]
    }
   ],
   "source": [
    "# Comprehension\n",
    "\n",
    "a=[1,2,3,4,5,6,5]\n",
    "\n",
    "print(a)\n",
    "\n",
    "print([i**2 for i in a])\n",
    "\n",
    "print({i**2 for i in a})"
   ]
  },
  {
   "cell_type": "code",
   "execution_count": 16,
   "metadata": {},
   "outputs": [
    {
     "name": "stdout",
     "output_type": "stream",
     "text": [
      "[1, 2, 3, 4, 5, 6, 5]\n",
      "[4, 16, 36]\n"
     ]
    }
   ],
   "source": [
    "# Comprehension\n",
    "\n",
    "a=[1,2,3,4,5,6,5]\n",
    "\n",
    "print(a)\n",
    "\n",
    "#print([i**2 for i in a])\n",
    "\n",
    "#print({i**2 for i in a})\n",
    "\n",
    "b = [i*i for i in a if i%2 == 0]\n",
    "print(b)"
   ]
  },
  {
   "cell_type": "code",
   "execution_count": 30,
   "metadata": {},
   "outputs": [
    {
     "name": "stdout",
     "output_type": "stream",
     "text": [
      "Enter numbers: 1,2,3,4,5\n",
      "1,2,3,4,5\n",
      "['1', '2', '3', '4', '5']\n",
      "15\n"
     ]
    }
   ],
   "source": [
    "a = input(\"Enter numbers: \")\n",
    "\n",
    "print(a)\n",
    "\n",
    "b=a.split(\",\")\n",
    "print(b)\n",
    "\n",
    "print(sum(list(int(i) for i in b))\n",
    "\n",
    "#print(sum(list(int(i) for i in b)))"
   ]
  },
  {
   "cell_type": "code",
   "execution_count": 30,
   "metadata": {},
   "outputs": [
    {
     "name": "stdout",
     "output_type": "stream",
     "text": [
      "Enter numbers: 1,2,3,4,5\n",
      "1,2,3,4,5\n",
      "['1', '2', '3', '4', '5']\n",
      "15\n"
     ]
    }
   ],
   "source": [
    "a = input(\"Enter numbers: \")\n",
    "\n",
    "print(a)\n",
    "\n",
    "print(sum(list(int(i) for i in a.split(\",\"))))\n"
   ]
  },
  {
   "cell_type": "code",
   "execution_count": 34,
   "metadata": {},
   "outputs": [
    {
     "name": "stdout",
     "output_type": "stream",
     "text": [
      "Enter numbers: 1,2,3\n",
      "6\n"
     ]
    }
   ],
   "source": [
    "#a = input(\"Enter numbers: \")\n",
    "\n",
    "#print(a)\n",
    "\n",
    "print(sum(list(int(i) for i in input(\"Enter numbers: \").split(\",\"))))\n"
   ]
  },
  {
   "cell_type": "code",
   "execution_count": 36,
   "metadata": {},
   "outputs": [
    {
     "name": "stdout",
     "output_type": "stream",
     "text": [
      "Enter numbers: 1,2,3,4\n",
      "10\n"
     ]
    }
   ],
   "source": [
    "#a = input(\"Enter numbers: \")\n",
    "\n",
    "#print(a)\n",
    "\n",
    "print(sum(int(i) for i in input(\"Enter numbers: \").split(\",\")))\n"
   ]
  },
  {
   "cell_type": "code",
   "execution_count": null,
   "metadata": {},
   "outputs": [],
   "source": [
    "# Create 2 files with sample text\n",
    "# find all unique words in each file\n",
    "# find total count of words in each file\n",
    "# find distinct words in fileA (compared to B), fileB (compared to B)"
   ]
  },
  {
   "cell_type": "code",
   "execution_count": 7,
   "metadata": {},
   "outputs": [
    {
     "name": "stdout",
     "output_type": "stream",
     "text": [
      "['This is fileA and it has 2 sentences.', 'This is the second sentence.']\n",
      "2\n"
     ]
    }
   ],
   "source": [
    "with open('fileA.txt', 'r') as f:\n",
    "    data = f.read().splitlines()\n",
    "    print(data)\n",
    "    \n",
    "print (len(data))"
   ]
  },
  {
   "cell_type": "code",
   "execution_count": 12,
   "metadata": {},
   "outputs": [
    {
     "name": "stdout",
     "output_type": "stream",
     "text": [
      "['This is fileB and it has 3 sentences.', 'This is the second sentence.', 'This is the third sentence.']\n",
      "3\n",
      "This is fileB and it has 3 sentences.\n",
      "This is the second sentence.\n",
      "This is the third sentence.\n",
      "['This is the third sentence.']\n"
     ]
    },
    {
     "data": {
      "text/plain": [
       "'\\nfor i,j in enumerate(l3):\\n    print(i+1,j)\\n    \\n'"
      ]
     },
     "execution_count": 12,
     "metadata": {},
     "output_type": "execute_result"
    }
   ],
   "source": [
    "with open('fileB.txt', 'r') as f:\n",
    "    data = f.read().splitlines()\n",
    "    print(data)\n",
    "    \n",
    "print (len(data))\n",
    "\n",
    "word_list=[]\n",
    "\n",
    "for line in data:\n",
    "    print(line)\n",
    "    word_list = line.splitlines()\n",
    "   # word_list.append(list(enumerate(line)))\n",
    "    \n",
    "print(word_list)\n",
    "\n",
    "\"\"\"\n",
    "for i,j in enumerate(l3):\n",
    "    print(i+1,j)\n",
    "    \n",
    "\"\"\""
   ]
  },
  {
   "cell_type": "code",
   "execution_count": 37,
   "metadata": {},
   "outputs": [
    {
     "name": "stdout",
     "output_type": "stream",
     "text": [
      "FileA - Unique list of words are  dict_keys(['This', 'is', 'fileA', 'and', 'it', 'has', '2', 'sentences.', 'the', 'second', 'sentence.'])\n",
      "FileA - Total count of unique words is 11\n",
      "FileA - Total count of all the words is 13\n",
      "FileB - Unique list of words are  dict_keys(['This', 'is', 'fileB', 'and', 'it', 'has', '3', 'sentences.', 'the', 'second', 'sentence.', 'third'])\n",
      "FileB - Total count of unique words is 12\n",
      "FileB - Total count of all the words is 18\n",
      "Common words :  {'is', 'sentences.', 'and', 'second', 'sentence.', 'has', 'This', 'it', 'the'}\n",
      "Unique words in FileA :  {'2', 'fileA'}\n",
      "Unique words in FileB :  {'third', '3', 'fileB'}\n",
      "List of Unique words in both :  {'3', 'fileB', 'third', 'fileA', '2'}\n"
     ]
    }
   ],
   "source": [
    "# Create 2 files with sample text\n",
    "# find all unique words in each file\n",
    "# find total count of words in each file\n",
    "# find distinct words in fileA (compared to B), fileB (compared to B)\n",
    "\n",
    "fileA_word_list=[]\n",
    "fileB_word_list=[]\n",
    "##################\n",
    "with open('fileA.txt', 'r') as f:\n",
    "    for line in f:\n",
    "        inner_list = [words.strip() for words in line.split(' ')]\n",
    "        #print (inner_list)\n",
    "        fileA_word_list.extend(inner_list)\n",
    "\n",
    "#print(fileA_word_list)\n",
    "\n",
    "with open('fileB.txt', 'r') as f:\n",
    "    for line in f:\n",
    "        inner_list = [words.strip() for words in line.split(' ')]\n",
    "        #print (inner_list)\n",
    "        fileB_word_list.extend(inner_list)\n",
    "\n",
    "#print(fileB_word_list)\n",
    "\n",
    "fileA_word_dict = {each_word:fileA_word_list.count(each_word) for each_word in fileA_word_list}\n",
    "fileB_word_dict = {each_word:fileB_word_list.count(each_word) for each_word in fileB_word_list}\n",
    "\n",
    "fileA_set = set(fileA_word_dict.keys())\n",
    "fileB_set = set(fileB_word_dict.keys())\n",
    "\n",
    "\n",
    "\n",
    "\n",
    "print(\"FileA - Unique list of words are \",fileA_word_dict.keys())\n",
    "print(\"FileA - Total count of unique words is\",len(fileA_word_dict))\n",
    "print(\"FileA - Total count of all the words is\",sum(fileA_word_dict.values()))\n",
    "\n",
    "print(\"FileB - Unique list of words are \",fileB_word_dict.keys())\n",
    "print(\"FileB - Total count of unique words is\",len(fileB_word_dict))\n",
    "print(\"FileB - Total count of all the words is\",sum(fileB_word_dict.values()))\n",
    "\n",
    "print(\"Common words : \",fileA_set & fileB_set)\n",
    "print(\"Unique words in FileA : \",fileA_set - fileB_set)\n",
    "print(\"Unique words in FileB : \",fileB_set - fileA_set)\n",
    "print(\"List of Unique words in both : \",fileB_set ^ fileA_set)"
   ]
  },
  {
   "cell_type": "code",
   "execution_count": 14,
   "metadata": {},
   "outputs": [
    {
     "name": "stdout",
     "output_type": "stream",
     "text": [
      "Mode using functions:  2\n"
     ]
    }
   ],
   "source": [
    "list1 = [1,2,3,4,2,2,5,5,7,8,8]\n",
    "\n",
    "dict1 = {list_elem:list1.count(list_elem) for list_elem in list1}\n",
    "\n",
    "#print(dict1)\n",
    "#print(\"Mode\",max(dict1.values()))\n",
    "\n",
    "#for k in sorted(dict1):\n",
    " #   print(f\"{k} : {dict1[k]}\")\n",
    "\n",
    "#max(sorted(dict1, key = lambda k : dict1.keys()))\n",
    "\n",
    "numbr = [1,2,3,4,2,2,5,5,7,8,8]\n",
    "numbr.sort()\n",
    "\n",
    "print(\"Mode using functions: \", max(set(numbr), key=numbr.count))\n",
    "\n",
    "\n"
   ]
  }
 ],
 "metadata": {
  "kernelspec": {
   "display_name": "Python 3",
   "language": "python",
   "name": "python3"
  },
  "language_info": {
   "codemirror_mode": {
    "name": "ipython",
    "version": 3
   },
   "file_extension": ".py",
   "mimetype": "text/x-python",
   "name": "python",
   "nbconvert_exporter": "python",
   "pygments_lexer": "ipython3",
   "version": "3.7.3"
  }
 },
 "nbformat": 4,
 "nbformat_minor": 2
}
