{
 "cells": [
  {
   "cell_type": "markdown",
   "metadata": {},
   "source": [
    "    # https://www.machinelearningplus.com/python/101-numpy-exercises-python/"
   ]
  },
  {
   "cell_type": "code",
   "execution_count": 2,
   "metadata": {},
   "outputs": [
    {
     "name": "stdout",
     "output_type": "stream",
     "text": [
      "1.16.2\n"
     ]
    }
   ],
   "source": [
    "#1. Import numpy as np and see the version\n",
    "\n",
    "import numpy as np\n",
    "import sys\n",
    "print(np.__version__)"
   ]
  },
  {
   "cell_type": "code",
   "execution_count": 111,
   "metadata": {},
   "outputs": [
    {
     "data": {
      "text/plain": [
       "array([0, 1, 2, 3, 4, 5, 6, 7, 8, 9])"
      ]
     },
     "execution_count": 111,
     "metadata": {},
     "output_type": "execute_result"
    }
   ],
   "source": [
    "#2. How to create a 1D array?\n",
    "\n",
    "import numpy as np\n",
    "np.set_printoptions(threshold=4)\n",
    "num = np.arange(10)\n",
    "np.set_printoptions(threshold=sys.maxsize)\n",
    "num"
   ]
  },
  {
   "cell_type": "code",
   "execution_count": 2,
   "metadata": {},
   "outputs": [
    {
     "name": "stdout",
     "output_type": "stream",
     "text": [
      "[[ 0  1  2  3  4]\n",
      " [ 5  6  7  8  9]\n",
      " [10 11 12 13 14]]\n"
     ]
    }
   ],
   "source": [
    "num = np.arange(15).reshape(3,5)\n",
    "\n",
    "print(num)"
   ]
  },
  {
   "cell_type": "code",
   "execution_count": 3,
   "metadata": {},
   "outputs": [
    {
     "name": "stdout",
     "output_type": "stream",
     "text": [
      "2\n",
      "(3, 5)\n",
      "15\n",
      "int32\n",
      "4\n",
      "<class 'numpy.ndarray'>\n"
     ]
    }
   ],
   "source": [
    "print(num.ndim)      #----------------->    ndim:-  its returns the number of array dimensions.\n",
    "print(num.shape)     #----------------->    shape:- its returns the shape of your ndarray as a tuple.\n",
    "print(num.size)      #----------------->    size:-  Number of elements in the array\n",
    "print(num.dtype)     #----------------->    dtype:- A dtype is an object describing the type of the elements of an ndarray\n",
    "print(num.itemsize)  #-----------------> itemsize:- its will return each element bit size\n",
    "\n",
    "print(type(num))"
   ]
  },
  {
   "cell_type": "code",
   "execution_count": 4,
   "metadata": {},
   "outputs": [
    {
     "name": "stdout",
     "output_type": "stream",
     "text": [
      "[1.   2.   3.   4.   4.5  6.72]\n",
      "float64\n",
      "<class 'numpy.ndarray'>\n"
     ]
    }
   ],
   "source": [
    "list1 = [1,2,3,4,4.5,6.72]\n",
    "b = np.array( list1 )\n",
    "print(b)\n",
    "print(b.dtype)\n",
    "print(type(b))"
   ]
  },
  {
   "cell_type": "code",
   "execution_count": 5,
   "metadata": {},
   "outputs": [
    {
     "data": {
      "text/plain": [
       "array([[1, 0, 0, 0, 0, 0, 0, 0, 0, 0],\n",
       "       [0, 1, 0, 0, 0, 0, 0, 0, 0, 0],\n",
       "       [0, 0, 1, 0, 0, 0, 0, 0, 0, 0],\n",
       "       [0, 0, 0, 1, 0, 0, 0, 0, 0, 0],\n",
       "       [0, 0, 0, 0, 1, 0, 0, 0, 0, 0],\n",
       "       [0, 0, 0, 0, 0, 1, 0, 0, 0, 0],\n",
       "       [0, 0, 0, 0, 0, 0, 1, 0, 0, 0],\n",
       "       [0, 0, 0, 0, 0, 0, 0, 1, 0, 0],\n",
       "       [0, 0, 0, 0, 0, 0, 0, 0, 1, 0],\n",
       "       [0, 0, 0, 0, 0, 0, 0, 0, 0, 1]])"
      ]
     },
     "execution_count": 5,
     "metadata": {},
     "output_type": "execute_result"
    }
   ],
   "source": [
    "c = np.eye(10, dtype=np.int)\n",
    "c"
   ]
  },
  {
   "cell_type": "code",
   "execution_count": 4,
   "metadata": {},
   "outputs": [
    {
     "data": {
      "text/plain": [
       "array([0, 1, 2, 3, 4, 5, 6, 7, 8, 9])"
      ]
     },
     "execution_count": 4,
     "metadata": {},
     "output_type": "execute_result"
    }
   ],
   "source": [
    "#2. How to create a 1D array?\n",
    "\n",
    "num = np.arange(10)\n",
    "num"
   ]
  },
  {
   "cell_type": "code",
   "execution_count": 10,
   "metadata": {},
   "outputs": [
    {
     "name": "stdout",
     "output_type": "stream",
     "text": [
      "[[ True  True  True]\n",
      " [ True  True  True]\n",
      " [ True  True  True]]\n"
     ]
    }
   ],
   "source": [
    "#3. How to create a boolean array?\n",
    "\n",
    "bool_arr = np.full((3,3),True,dtype=bool)\n",
    "\n",
    "print(bool_arr)"
   ]
  },
  {
   "cell_type": "code",
   "execution_count": 15,
   "metadata": {},
   "outputs": [
    {
     "name": "stdout",
     "output_type": "stream",
     "text": [
      "[[1 1 1]\n",
      " [1 1 1]\n",
      " [1 1 1]]\n"
     ]
    }
   ],
   "source": [
    "bool_arr = np.full((3,3),1)\n",
    "\n",
    "print(bool_arr)"
   ]
  },
  {
   "cell_type": "code",
   "execution_count": 5,
   "metadata": {},
   "outputs": [
    {
     "data": {
      "text/plain": [
       "array([1, 3, 5, 7, 9])"
      ]
     },
     "execution_count": 5,
     "metadata": {},
     "output_type": "execute_result"
    }
   ],
   "source": [
    "#4. How to extract items that satisfy a given condition from 1D array?\n",
    "#Q. Extract all odd numbers from arr\n",
    "\n",
    "arr = np.arange(10)\n",
    "arr[arr%2==1]"
   ]
  },
  {
   "cell_type": "code",
   "execution_count": 8,
   "metadata": {},
   "outputs": [
    {
     "name": "stdout",
     "output_type": "stream",
     "text": [
      "[0 1 2 3 4 5 6 7 8 9]\n",
      "[ 0 -1  2 -1  4 -1  6 -1  8 -1]\n"
     ]
    }
   ],
   "source": [
    "#5. How to replace items that satisfy a condition with another value in numpy array?\n",
    "#Q. Replace all odd numbers in arr with -1\n",
    "\n",
    "arr = np.arange(10)\n",
    "print(arr)\n",
    "arr[arr%2==1]=-1\n",
    "print(arr)"
   ]
  },
  {
   "cell_type": "code",
   "execution_count": 10,
   "metadata": {},
   "outputs": [
    {
     "name": "stdout",
     "output_type": "stream",
     "text": [
      "[0 1 2 3 4 5 6 7 8 9]\n",
      "[ 0 -1  2 -1  4 -1  6 -1  8 -1]\n"
     ]
    }
   ],
   "source": [
    "#6. How to replace items that satisfy a condition without affecting the original array?\n",
    "#Q. Replace all odd numbers in arr with -1 without changing arr\n",
    "\n",
    "arr = np.arange(10)\n",
    "arr2=(arr).copy()\n",
    "arr2[arr%2==1] = -1\n",
    "print(arr)\n",
    "print(arr2)"
   ]
  },
  {
   "cell_type": "code",
   "execution_count": 18,
   "metadata": {},
   "outputs": [
    {
     "name": "stdout",
     "output_type": "stream",
     "text": [
      "[0 1 2 3 4 5 6 7 8 9]\n",
      "[ 0 -1  2 -1  4 -1  6 -1  8 -1]\n"
     ]
    }
   ],
   "source": [
    "#6. How to replace items that satisfy a condition without affecting the original array?\n",
    "#Q. Replace all odd numbers in arr with -1 without changing arr\n",
    "\n",
    "arr = np.arange(10)\n",
    "arr2 = np.where(arr % 2 == 1, -1, arr)\n",
    "\n",
    "print(arr)\n",
    "print(arr2)"
   ]
  },
  {
   "cell_type": "code",
   "execution_count": 61,
   "metadata": {},
   "outputs": [
    {
     "data": {
      "text/plain": [
       "array([[1, 3, 5, 7, 9]])"
      ]
     },
     "execution_count": 61,
     "metadata": {},
     "output_type": "execute_result"
    }
   ],
   "source": [
    "arr = np.arange(10)\n",
    "\n",
    "arr2_ind = np.where(arr % 2 == 1)\n",
    "\n",
    "\n",
    "#print(arr2_ind)\n",
    "arr.take(arr2_ind)"
   ]
  },
  {
   "cell_type": "code",
   "execution_count": 16,
   "metadata": {},
   "outputs": [
    {
     "name": "stdout",
     "output_type": "stream",
     "text": [
      "[0 1 2 3 4 5 6 7 8 9]\n"
     ]
    },
    {
     "data": {
      "text/plain": [
       "array([[0, 1, 2, 3, 4],\n",
       "       [5, 6, 7, 8, 9]])"
      ]
     },
     "execution_count": 16,
     "metadata": {},
     "output_type": "execute_result"
    }
   ],
   "source": [
    "#7. How to reshape an array?\n",
    "#Q. Convert a 1D array to a 2D array with 2 rows\n",
    "\n",
    "arr = np.arange(10)\n",
    "print(arr)\n",
    "arr.reshape(2,-1)\n",
    "#print(arr)\n"
   ]
  },
  {
   "cell_type": "code",
   "execution_count": 23,
   "metadata": {},
   "outputs": [
    {
     "name": "stdout",
     "output_type": "stream",
     "text": [
      "Row wise\n",
      "[[0 1 2 3 4]\n",
      " [5 6 7 8 9]\n",
      " [1 1 1 1 1]\n",
      " [1 1 1 1 1]]\n",
      "[[0 1 2 3 4]\n",
      " [5 6 7 8 9]\n",
      " [1 1 1 1 1]\n",
      " [1 1 1 1 1]]\n",
      "[[0 1 2 3 4]\n",
      " [5 6 7 8 9]\n",
      " [1 1 1 1 1]\n",
      " [1 1 1 1 1]]\n"
     ]
    }
   ],
   "source": [
    "#8. How to stack two arrays vertically?\n",
    "#Q. Stack arrays a and b vertically\n",
    "\n",
    "a = np.arange(10).reshape(2,-1)\n",
    "b = np.repeat(1, 10).reshape(2,-1)\n",
    "\n",
    "print(\"Row wise\")\n",
    "print(np.concatenate([a, b], axis=0))\n",
    "print(np.vstack([a,b]))\n",
    "print(np.r_[a,b])\n"
   ]
  },
  {
   "cell_type": "code",
   "execution_count": 24,
   "metadata": {},
   "outputs": [
    {
     "name": "stdout",
     "output_type": "stream",
     "text": [
      "Col wise\n",
      "[[0 1 2 3 4 1 1 1 1 1]\n",
      " [5 6 7 8 9 1 1 1 1 1]]\n",
      "[[0 1 2 3 4 1 1 1 1 1]\n",
      " [5 6 7 8 9 1 1 1 1 1]]\n",
      "[[0 1 2 3 4 1 1 1 1 1]\n",
      " [5 6 7 8 9 1 1 1 1 1]]\n"
     ]
    }
   ],
   "source": [
    "#9. How to stack two arrays horizontally?\n",
    "#Q. Stack arrays a and b horizontally\n",
    "\n",
    "a = np.arange(10).reshape(2,-1)\n",
    "b = np.repeat(1, 10).reshape(2,-1)\n",
    "\n",
    "\n",
    "print(\"Col wise\")\n",
    "print(np.concatenate([a, b], axis=1))\n",
    "print(np.hstack([a,b]))\n",
    "print(np.c_[a,b])"
   ]
  },
  {
   "cell_type": "code",
   "execution_count": 53,
   "metadata": {},
   "outputs": [
    {
     "name": "stdout",
     "output_type": "stream",
     "text": [
      "[10  8  6  4  2]\n"
     ]
    }
   ],
   "source": [
    "print(np.arange(10, 0, -2))  "
   ]
  },
  {
   "cell_type": "code",
   "execution_count": 29,
   "metadata": {},
   "outputs": [
    {
     "name": "stdout",
     "output_type": "stream",
     "text": [
      "[1 1 1 2 2 2 3 3 3]\n",
      "[1 2 3 1 2 3 1 2 3]\n"
     ]
    },
    {
     "data": {
      "text/plain": [
       "array([1, 1, 1, 2, 2, 2, 3, 3, 3, 1, 2, 3, 1, 2, 3, 1, 2, 3])"
      ]
     },
     "execution_count": 29,
     "metadata": {},
     "output_type": "execute_result"
    }
   ],
   "source": [
    "#10. How to generate custom sequences in numpy without hardcoding?\n",
    "# desired output [1, 1, 1, 2, 2, 2, 3, 3, 3, 1, 2, 3, 1, 2, 3, 1, 2, 3]\n",
    "a = np.array([1,2,3])\n",
    "print(np.repeat(a,3))\n",
    "print(np.tile(a,3))\n",
    "np.concatenate([np.repeat(a,3),np.tile(a,3)])"
   ]
  },
  {
   "cell_type": "code",
   "execution_count": 30,
   "metadata": {},
   "outputs": [
    {
     "data": {
      "text/plain": [
       "array([2, 4, 5])"
      ]
     },
     "execution_count": 30,
     "metadata": {},
     "output_type": "execute_result"
    }
   ],
   "source": [
    "#11. How to get the common items between two python numpy arrays?\n",
    "\n",
    "a = np.array([1,2,3,2,3,4,3,4,5,6])\n",
    "b = np.array([7,2,10,2,7,9,4,9,8,5])\n",
    "\n",
    "np.intersect1d(a,b)\n",
    "\n"
   ]
  },
  {
   "cell_type": "code",
   "execution_count": 89,
   "metadata": {},
   "outputs": [
    {
     "data": {
      "text/plain": [
       "array([5, 6])"
      ]
     },
     "execution_count": 89,
     "metadata": {},
     "output_type": "execute_result"
    }
   ],
   "source": [
    "a = np.array([1,2,3,2,3,4,3,4,5,6])\n",
    "b = np.array([7,2,10,2,7,4,9,4,9,8])\n",
    "\n",
    "np.where(a==b)\n",
    "a[(a>=5) & (a<=10)]\n"
   ]
  },
  {
   "cell_type": "code",
   "execution_count": 33,
   "metadata": {},
   "outputs": [
    {
     "data": {
      "text/plain": [
       "array([1, 2, 3, 4])"
      ]
     },
     "execution_count": 33,
     "metadata": {},
     "output_type": "execute_result"
    }
   ],
   "source": [
    "#12. How to remove from one array those items that exist in another?\n",
    "a = np.array([1,2,3,4,5])\n",
    "b = np.array([5,6,7,8,9])\n",
    "\n",
    "np.setdiff1d(a,b)"
   ]
  },
  {
   "cell_type": "code",
   "execution_count": 38,
   "metadata": {},
   "outputs": [
    {
     "name": "stdout",
     "output_type": "stream",
     "text": [
      "Common elements:  [2 4]\n",
      "(array([1, 3, 5, 7], dtype=int64),)\n"
     ]
    }
   ],
   "source": [
    "#13. How to get the positions where elements of two arrays match?\n",
    "\n",
    "a = np.array([1,2,3,2,3,4,3,4,5,6])\n",
    "b = np.array([7,2,10,2,7,4,9,4,9,8])\n",
    "# Output - (array([1, 3, 5, 7]),)\n",
    "\n",
    "print(\"Common elements: \", np.intersect1d(a,b))\n",
    "print(np.where(a==b))"
   ]
  },
  {
   "cell_type": "code",
   "execution_count": 44,
   "metadata": {},
   "outputs": [
    {
     "data": {
      "text/plain": [
       "array([ 6,  9, 10])"
      ]
     },
     "execution_count": 44,
     "metadata": {},
     "output_type": "execute_result"
    }
   ],
   "source": [
    "#14. How to extract all numbers between a given range from a numpy array?\n",
    "\n",
    "a = np.array([2, 6, 1, 9, 10, 3, 27])\n",
    "a[np.where((a>=5) & (a<10))]\n",
    "a[(a>=5) & (a<=10)]"
   ]
  },
  {
   "cell_type": "code",
   "execution_count": 91,
   "metadata": {},
   "outputs": [
    {
     "data": {
      "text/plain": [
       "array([6, 7, 9, 8, 9, 7, 5])"
      ]
     },
     "execution_count": 91,
     "metadata": {},
     "output_type": "execute_result"
    }
   ],
   "source": [
    "#Q. Convert the function maxx that works on two scalars, to work on two arrays.\n",
    "\n",
    "def maxx(x, y):\n",
    "    \"\"\"Get the maximum of two items\"\"\"\n",
    "    if x >= y:\n",
    "        return x\n",
    "    else:\n",
    "        return y\n",
    "    \n",
    "\n",
    "\n",
    "pair_max = np.vectorize(maxx)\n",
    "\n",
    "a = np.array([5, 7, 9, 8, 6, 4, 5])\n",
    "b = np.array([6, 3, 4, 8, 9, 7, 1])\n",
    "\n",
    "pair_max(a, b)"
   ]
  },
  {
   "cell_type": "code",
   "execution_count": 45,
   "metadata": {},
   "outputs": [
    {
     "name": "stdout",
     "output_type": "stream",
     "text": [
      "[[0 1 2]\n",
      " [3 4 5]\n",
      " [6 7 8]]\n",
      "[[0 2 1]\n",
      " [3 5 4]\n",
      " [6 8 7]]\n"
     ]
    },
    {
     "data": {
      "text/plain": [
       "'\\nprint(arr[ [0,2,1],:])\\nprint(arr[::-1])\\nprint(arr[:,::-1])\\n'"
      ]
     },
     "execution_count": 45,
     "metadata": {},
     "output_type": "execute_result"
    }
   ],
   "source": [
    "#16. How to swap two columns in a 2d numpy array?\n",
    "\n",
    "arr = np.arange(9).reshape(3,3)\n",
    "print(arr)\n",
    "print(arr[:, [0,2,1]])\n",
    "\"\"\"\n",
    "print(arr[ [0,2,1],:])\n",
    "print(arr[::-1])\n",
    "print(arr[:,::-1])\n",
    "\"\"\""
   ]
  },
  {
   "cell_type": "code",
   "execution_count": 46,
   "metadata": {},
   "outputs": [
    {
     "name": "stdout",
     "output_type": "stream",
     "text": [
      "[[0 1 2]\n",
      " [3 4 5]\n",
      " [6 7 8]]\n",
      "[[0 1 2]\n",
      " [6 7 8]\n",
      " [3 4 5]]\n"
     ]
    },
    {
     "data": {
      "text/plain": [
       "'\\n\\nprint(arr[::-1])\\nprint(arr[:,::-1])\\n'"
      ]
     },
     "execution_count": 46,
     "metadata": {},
     "output_type": "execute_result"
    }
   ],
   "source": [
    "#17. How to swap two rows in a 2d numpy array?\n",
    "\n",
    "arr = np.arange(9).reshape(3,3)\n",
    "print(arr)\n",
    "print(arr[ [0,2,1],:])\n",
    "\n",
    "\"\"\"\n",
    "\n",
    "print(arr[::-1])\n",
    "print(arr[:,::-1])\n",
    "\"\"\""
   ]
  },
  {
   "cell_type": "code",
   "execution_count": 47,
   "metadata": {},
   "outputs": [
    {
     "name": "stdout",
     "output_type": "stream",
     "text": [
      "[[0 1 2]\n",
      " [3 4 5]\n",
      " [6 7 8]]\n",
      "[[6 7 8]\n",
      " [3 4 5]\n",
      " [0 1 2]]\n"
     ]
    },
    {
     "data": {
      "text/plain": [
       "'\\n\\n\\nprint(arr[:,::-1])\\n'"
      ]
     },
     "execution_count": 47,
     "metadata": {},
     "output_type": "execute_result"
    }
   ],
   "source": [
    "#18. How to reverse the rows of a 2D array?\n",
    "\n",
    "arr = np.arange(9).reshape(3,3)\n",
    "print(arr)\n",
    "print(arr[::-1])\n",
    "\n",
    "\"\"\"\n",
    "\n",
    "\n",
    "print(arr[:,::-1])\n",
    "\"\"\""
   ]
  },
  {
   "cell_type": "code",
   "execution_count": 49,
   "metadata": {},
   "outputs": [
    {
     "name": "stdout",
     "output_type": "stream",
     "text": [
      "[[0 1 2]\n",
      " [3 4 5]\n",
      " [6 7 8]]\n",
      "[[2 1 0]\n",
      " [5 4 3]\n",
      " [8 7 6]]\n"
     ]
    }
   ],
   "source": [
    "#19. How to reverse the columns of a 2D array?\n",
    "\n",
    "arr = np.arange(9).reshape(3,3)\n",
    "print(arr)\n",
    "print(arr[:,::-1])"
   ]
  },
  {
   "cell_type": "code",
   "execution_count": 56,
   "metadata": {},
   "outputs": [
    {
     "name": "stdout",
     "output_type": "stream",
     "text": [
      "[[8 5 9]\n",
      " [8 7 5]\n",
      " [8 7 5]\n",
      " [5 7 8]\n",
      " [9 7 7]]\n",
      "[[5.68450723 6.96129181 9.02288555]\n",
      " [5.33296308 7.47562506 7.69702197]\n",
      " [8.87782861 8.4500472  7.69861789]\n",
      " [7.37974315 7.83357629 6.88952298]\n",
      " [7.14319837 7.35057278 6.42441395]]\n"
     ]
    }
   ],
   "source": [
    "#20. How to create a 2D array containing random floats between 5 and 10?\n",
    "\n",
    "arr = np.random.randint(5,10, size=(5,3))\n",
    "print(arr)\n",
    "arr = np.random.uniform(5,10, size=(5,3))\n",
    "print(arr)"
   ]
  },
  {
   "cell_type": "code",
   "execution_count": 58,
   "metadata": {},
   "outputs": [
    {
     "name": "stdout",
     "output_type": "stream",
     "text": [
      "[[5.38  8.786 6.85 ]\n",
      " [9.963 7.268 5.188]\n",
      " [9.241 5.276 7.09 ]\n",
      " [6.382 8.239 8.524]\n",
      " [6.233 6.11  7.076]]\n"
     ]
    }
   ],
   "source": [
    "#21. How to print only 3 decimal places in python numpy array?\n",
    "\n",
    "arr = np.random.uniform(5,10, size=(5,3))\n",
    "np.set_printoptions(precision=3)\n",
    "print(arr)"
   ]
  },
  {
   "cell_type": "code",
   "execution_count": 61,
   "metadata": {},
   "outputs": [
    {
     "data": {
      "text/plain": [
       "array([[0.000543, 0.000278, 0.000425],\n",
       "       [0.000845, 0.000005, 0.000122],\n",
       "       [0.000671, 0.000826, 0.000137]])"
      ]
     },
     "execution_count": 61,
     "metadata": {},
     "output_type": "execute_result"
    }
   ],
   "source": [
    "#22. How to pretty print a numpy array by suppressing the scientific notation (like 1e10)?\n",
    "\n",
    "np.random.seed(100)\n",
    "rand_arr = np.random.random([3,3])/1e3\n",
    "np.set_printoptions(suppress=False)\n",
    "rand_arr\n",
    "\n",
    "np.set_printoptions(suppress=True, precision=6)\n",
    "rand_arr"
   ]
  },
  {
   "cell_type": "code",
   "execution_count": 67,
   "metadata": {},
   "outputs": [
    {
     "data": {
      "text/plain": [
       "array([ 0,  1,  2,  3,  4,  5, ...,  9, 10, 11, 12, 13, 14])"
      ]
     },
     "execution_count": 67,
     "metadata": {},
     "output_type": "execute_result"
    }
   ],
   "source": [
    "#23. How to limit the number of items printed in output of numpy array?\n",
    "a = np.arange(15)\n",
    "a\n",
    "np.set_printoptions(threshold=6)\n",
    "a"
   ]
  },
  {
   "cell_type": "code",
   "execution_count": 70,
   "metadata": {},
   "outputs": [
    {
     "data": {
      "text/plain": [
       "array([ 0,  1,  2,  3,  4,  5,  6,  7,  8,  9, 10, 11, 12, 13, 14])"
      ]
     },
     "execution_count": 70,
     "metadata": {},
     "output_type": "execute_result"
    }
   ],
   "source": [
    "#24. How to print the full numpy array without truncating?\n",
    "import sys\n",
    "a = np.arange(15)\n",
    "a\n",
    "np.set_printoptions(threshold=sys.maxsize)\n",
    "a"
   ]
  },
  {
   "cell_type": "code",
   "execution_count": 76,
   "metadata": {},
   "outputs": [
    {
     "data": {
      "text/plain": [
       "array([[5.1, 3.5, 1.4, 0.2, nan],\n",
       "       [4.9, 3. , 1.4, 0.2, nan],\n",
       "       [4.7, 3.2, 1.3, 0.2, nan]])"
      ]
     },
     "execution_count": 76,
     "metadata": {},
     "output_type": "execute_result"
    }
   ],
   "source": [
    "#25. How to import a dataset with numbers and texts keeping the text intact in python numpy?\n",
    "\n",
    "#url = 'https://archive.ics.uci.edu/ml/machine-learning-databases/iris/iris.data'\n",
    "#path = 'https://raw.githubusercontent.com/selva86/datasets/master/Auto.csv'\n",
    "\n",
    "url = 'C:/Users/Deepak Sadanandan/Desktop/iris.data'\n",
    "iris = np.genfromtxt(url, delimiter=',', dtype=float)\n",
    "#iris = np.genfromtxt(url, delimiter=',', dtype='object')\n",
    "names = ('sepallength', 'sepalwidth', 'petallength', 'petalwidth', 'species')\n",
    "\n",
    "iris[:3]\n"
   ]
  },
  {
   "cell_type": "code",
   "execution_count": 89,
   "metadata": {},
   "outputs": [
    {
     "name": "stdout",
     "output_type": "stream",
     "text": [
      "[[b'Iris-setosa']\n",
      " [b'Iris-setosa']\n",
      " [b'Iris-setosa']]\n"
     ]
    }
   ],
   "source": [
    "#26. How to extract a particular column from 1D array of tuples?\n",
    "\n",
    "url = 'C:/Users/Deepak Sadanandan/Desktop/iris.data'\n",
    "iris = np.genfromtxt(url, delimiter=',', dtype='object')\n",
    "#iris = np.genfromtxt(url, delimiter=',', dtype='object')\n",
    "names = ('sepallength', 'sepalwidth', 'petallength', 'petalwidth', 'species')\n",
    "print(iris[:3,4:5])\n",
    "\n",
    "#iris[:5,['species']]\n"
   ]
  },
  {
   "cell_type": "code",
   "execution_count": 98,
   "metadata": {},
   "outputs": [
    {
     "name": "stdout",
     "output_type": "stream",
     "text": [
      "[[5.1 3.5 1.4 0.2]\n",
      " [4.9 3.  1.4 0.2]\n",
      " [4.7 3.2 1.3 0.2]]\n"
     ]
    }
   ],
   "source": [
    "#27. How to convert a 1d array of tuples to a 2d numpy array?\n",
    "\n",
    "url = 'C:/Users/Deepak Sadanandan/Desktop/iris.data'\n",
    "iris = np.genfromtxt(url, delimiter=',', dtype=None,usecols=[0,1,2,3])\n",
    "#iris = np.genfromtxt(url, delimiter=',', dtype='object')\n",
    "names = ('sepallength', 'sepalwidth', 'petallength', 'petalwidth', 'species')\n",
    "print(iris[:3,])\n"
   ]
  },
  {
   "cell_type": "code",
   "execution_count": 105,
   "metadata": {},
   "outputs": [
    {
     "name": "stderr",
     "output_type": "stream",
     "text": [
      "C:\\Users\\Deepak Sadanandan\\Anaconda3\\lib\\site-packages\\ipykernel_launcher.py:4: VisibleDeprecationWarning: Reading unicode strings without specifying the encoding argument is deprecated. Set the encoding, use None for the system default.\n",
      "  after removing the cwd from sys.path.\n"
     ]
    },
    {
     "data": {
      "text/plain": [
       "array([[5.1, 3.5, 1.4, 0.2],\n",
       "       [4.9, 3. , 1.4, 0.2],\n",
       "       [4.7, 3.2, 1.3, 0.2],\n",
       "       [4.6, 3.1, 1.5, 0.2],\n",
       "       [5. , 3.6, 1.4, 0.2],\n",
       "       [5.4, 3.9, 1.7, 0.4],\n",
       "       [4.6, 3.4, 1.4, 0.3],\n",
       "       [5. , 3.4, 1.5, 0.2],\n",
       "       [4.4, 2.9, 1.4, 0.2],\n",
       "       [4.9, 3.1, 1.5, 0.1],\n",
       "       [5.4, 3.7, 1.5, 0.2],\n",
       "       [4.8, 3.4, 1.6, 0.2],\n",
       "       [4.8, 3. , 1.4, 0.1],\n",
       "       [4.3, 3. , 1.1, 0.1],\n",
       "       [5.8, 4. , 1.2, 0.2],\n",
       "       [5.7, 4.4, 1.5, 0.4],\n",
       "       [5.4, 3.9, 1.3, 0.4],\n",
       "       [5.1, 3.5, 1.4, 0.3],\n",
       "       [5.7, 3.8, 1.7, 0.3],\n",
       "       [5.1, 3.8, 1.5, 0.3],\n",
       "       [5.4, 3.4, 1.7, 0.2],\n",
       "       [5.1, 3.7, 1.5, 0.4],\n",
       "       [4.6, 3.6, 1. , 0.2],\n",
       "       [5.1, 3.3, 1.7, 0.5],\n",
       "       [4.8, 3.4, 1.9, 0.2],\n",
       "       [5. , 3. , 1.6, 0.2],\n",
       "       [5. , 3.4, 1.6, 0.4],\n",
       "       [5.2, 3.5, 1.5, 0.2],\n",
       "       [5.2, 3.4, 1.4, 0.2],\n",
       "       [4.7, 3.2, 1.6, 0.2],\n",
       "       [4.8, 3.1, 1.6, 0.2],\n",
       "       [5.4, 3.4, 1.5, 0.4],\n",
       "       [5.2, 4.1, 1.5, 0.1],\n",
       "       [5.5, 4.2, 1.4, 0.2],\n",
       "       [4.9, 3.1, 1.5, 0.1],\n",
       "       [5. , 3.2, 1.2, 0.2],\n",
       "       [5.5, 3.5, 1.3, 0.2],\n",
       "       [4.9, 3.1, 1.5, 0.1],\n",
       "       [4.4, 3. , 1.3, 0.2],\n",
       "       [5.1, 3.4, 1.5, 0.2],\n",
       "       [5. , 3.5, 1.3, 0.3],\n",
       "       [4.5, 2.3, 1.3, 0.3],\n",
       "       [4.4, 3.2, 1.3, 0.2],\n",
       "       [5. , 3.5, 1.6, 0.6],\n",
       "       [5.1, 3.8, 1.9, 0.4],\n",
       "       [4.8, 3. , 1.4, 0.3],\n",
       "       [5.1, 3.8, 1.6, 0.2],\n",
       "       [4.6, 3.2, 1.4, 0.2],\n",
       "       [5.3, 3.7, 1.5, 0.2],\n",
       "       [5. , 3.3, 1.4, 0.2],\n",
       "       [7. , 3.2, 4.7, 1.4],\n",
       "       [6.4, 3.2, 4.5, 1.5],\n",
       "       [6.9, 3.1, 4.9, 1.5],\n",
       "       [5.5, 2.3, 4. , 1.3],\n",
       "       [6.5, 2.8, 4.6, 1.5],\n",
       "       [5.7, 2.8, 4.5, 1.3],\n",
       "       [6.3, 3.3, 4.7, 1.6],\n",
       "       [4.9, 2.4, 3.3, 1. ],\n",
       "       [6.6, 2.9, 4.6, 1.3],\n",
       "       [5.2, 2.7, 3.9, 1.4],\n",
       "       [5. , 2. , 3.5, 1. ],\n",
       "       [5.9, 3. , 4.2, 1.5],\n",
       "       [6. , 2.2, 4. , 1. ],\n",
       "       [6.1, 2.9, 4.7, 1.4],\n",
       "       [5.6, 2.9, 3.6, 1.3],\n",
       "       [6.7, 3.1, 4.4, 1.4],\n",
       "       [5.6, 3. , 4.5, 1.5],\n",
       "       [5.8, 2.7, 4.1, 1. ],\n",
       "       [6.2, 2.2, 4.5, 1.5],\n",
       "       [5.6, 2.5, 3.9, 1.1],\n",
       "       [5.9, 3.2, 4.8, 1.8],\n",
       "       [6.1, 2.8, 4. , 1.3],\n",
       "       [6.3, 2.5, 4.9, 1.5],\n",
       "       [6.1, 2.8, 4.7, 1.2],\n",
       "       [6.4, 2.9, 4.3, 1.3],\n",
       "       [6.6, 3. , 4.4, 1.4],\n",
       "       [6.8, 2.8, 4.8, 1.4],\n",
       "       [6.7, 3. , 5. , 1.7],\n",
       "       [6. , 2.9, 4.5, 1.5],\n",
       "       [5.7, 2.6, 3.5, 1. ],\n",
       "       [5.5, 2.4, 3.8, 1.1],\n",
       "       [5.5, 2.4, 3.7, 1. ],\n",
       "       [5.8, 2.7, 3.9, 1.2],\n",
       "       [6. , 2.7, 5.1, 1.6],\n",
       "       [5.4, 3. , 4.5, 1.5],\n",
       "       [6. , 3.4, 4.5, 1.6],\n",
       "       [6.7, 3.1, 4.7, 1.5],\n",
       "       [6.3, 2.3, 4.4, 1.3],\n",
       "       [5.6, 3. , 4.1, 1.3],\n",
       "       [5.5, 2.5, 4. , 1.3],\n",
       "       [5.5, 2.6, 4.4, 1.2],\n",
       "       [6.1, 3. , 4.6, 1.4],\n",
       "       [5.8, 2.6, 4. , 1.2],\n",
       "       [5. , 2.3, 3.3, 1. ],\n",
       "       [5.6, 2.7, 4.2, 1.3],\n",
       "       [5.7, 3. , 4.2, 1.2],\n",
       "       [5.7, 2.9, 4.2, 1.3],\n",
       "       [6.2, 2.9, 4.3, 1.3],\n",
       "       [5.1, 2.5, 3. , 1.1],\n",
       "       [5.7, 2.8, 4.1, 1.3],\n",
       "       [6.3, 3.3, 6. , 2.5],\n",
       "       [5.8, 2.7, 5.1, 1.9],\n",
       "       [7.1, 3. , 5.9, 2.1],\n",
       "       [6.3, 2.9, 5.6, 1.8],\n",
       "       [6.5, 3. , 5.8, 2.2],\n",
       "       [7.6, 3. , 6.6, 2.1],\n",
       "       [4.9, 2.5, 4.5, 1.7],\n",
       "       [7.3, 2.9, 6.3, 1.8],\n",
       "       [6.7, 2.5, 5.8, 1.8],\n",
       "       [7.2, 3.6, 6.1, 2.5],\n",
       "       [6.5, 3.2, 5.1, 2. ],\n",
       "       [6.4, 2.7, 5.3, 1.9],\n",
       "       [6.8, 3. , 5.5, 2.1],\n",
       "       [5.7, 2.5, 5. , 2. ],\n",
       "       [5.8, 2.8, 5.1, 2.4],\n",
       "       [6.4, 3.2, 5.3, 2.3],\n",
       "       [6.5, 3. , 5.5, 1.8],\n",
       "       [7.7, 3.8, 6.7, 2.2],\n",
       "       [7.7, 2.6, 6.9, 2.3],\n",
       "       [6. , 2.2, 5. , 1.5],\n",
       "       [6.9, 3.2, 5.7, 2.3],\n",
       "       [5.6, 2.8, 4.9, 2. ],\n",
       "       [7.7, 2.8, 6.7, 2. ],\n",
       "       [6.3, 2.7, 4.9, 1.8],\n",
       "       [6.7, 3.3, 5.7, 2.1],\n",
       "       [7.2, 3.2, 6. , 1.8],\n",
       "       [6.2, 2.8, 4.8, 1.8],\n",
       "       [6.1, 3. , 4.9, 1.8],\n",
       "       [6.4, 2.8, 5.6, 2.1],\n",
       "       [7.2, 3. , 5.8, 1.6],\n",
       "       [7.4, 2.8, 6.1, 1.9],\n",
       "       [7.9, 3.8, 6.4, 2. ],\n",
       "       [6.4, 2.8, 5.6, 2.2],\n",
       "       [6.3, 2.8, 5.1, 1.5],\n",
       "       [6.1, 2.6, 5.6, 1.4],\n",
       "       [7.7, 3. , 6.1, 2.3],\n",
       "       [6.3, 3.4, 5.6, 2.4],\n",
       "       [6.4, 3.1, 5.5, 1.8],\n",
       "       [6. , 3. , 4.8, 1.8],\n",
       "       [6.9, 3.1, 5.4, 2.1],\n",
       "       [6.7, 3.1, 5.6, 2.4],\n",
       "       [6.9, 3.1, 5.1, 2.3],\n",
       "       [5.8, 2.7, 5.1, 1.9],\n",
       "       [6.8, 3.2, 5.9, 2.3],\n",
       "       [6.7, 3.3, 5.7, 2.5],\n",
       "       [6.7, 3. , 5.2, 2.3],\n",
       "       [6.3, 2.5, 5. , 1.9],\n",
       "       [6.5, 3. , 5.2, 2. ],\n",
       "       [6.2, 3.4, 5.4, 2.3],\n",
       "       [5.9, 3. , 5.1, 1.8]])"
      ]
     },
     "execution_count": 105,
     "metadata": {},
     "output_type": "execute_result"
    }
   ],
   "source": [
    "#27. How to convert a 1d array of tuples to a 2d numpy array?\n",
    "\n",
    "url = 'C:/Users/Deepak Sadanandan/Desktop/iris.data'\n",
    "iris = np.genfromtxt(url, delimiter=',', dtype=None)\n",
    "#iris = np.genfromtxt(url, delimiter=',', dtype='object')\n",
    "names = ('sepallength', 'sepalwidth', 'petallength', 'petalwidth', 'species')\n",
    "iris_upd = np.array([row.tolist()[:4] for row in iris])\n",
    "iris_upd"
   ]
  },
  {
   "cell_type": "code",
   "execution_count": 109,
   "metadata": {},
   "outputs": [
    {
     "name": "stdout",
     "output_type": "stream",
     "text": [
      "5.843333333333334 5.8 0.8253012917851409\n"
     ]
    }
   ],
   "source": [
    "#28. How to compute the mean, median, standard deviation of a numpy array?\n",
    "\n",
    "url = 'C:/Users/Deepak Sadanandan/Desktop/iris.data'\n",
    "iris = np.genfromtxt(url, delimiter=',', dtype='float',usecols=[0])\n",
    "#iris = np.genfromtxt(url, delimiter=',', dtype='object')\n",
    "names = ('sepallength', 'sepalwidth', 'petallength', 'petalwidth', 'species')\n",
    "mea, med, std = np.mean(iris),np.median(iris),np.std(iris)\n",
    "print(mea, med, std)"
   ]
  },
  {
   "cell_type": "code",
   "execution_count": null,
   "metadata": {},
   "outputs": [],
   "source": [
    "#29. How to normalize an array so the values range exactly between 0 and 1?\n",
    "\n",
    "url = 'C:/Users/Deepak Sadanandan/Desktop/iris.data'\n",
    "iris = np.genfromtxt(url, delimiter=',', dtype='float',usecols=[0])\n",
    "\n",
    "#???"
   ]
  },
  {
   "cell_type": "code",
   "execution_count": null,
   "metadata": {},
   "outputs": [],
   "source": [
    "#30. How to compute the softmax score?\n",
    "\n",
    "#Q. Compute the softmax score of sepallength.\n",
    "\n",
    "#???"
   ]
  },
  {
   "cell_type": "code",
   "execution_count": 115,
   "metadata": {},
   "outputs": [
    {
     "data": {
      "text/plain": [
       "array([4.6  , 7.255])"
      ]
     },
     "execution_count": 115,
     "metadata": {},
     "output_type": "execute_result"
    }
   ],
   "source": [
    "#31. How to find the percentile scores of a numpy array?\n",
    "\n",
    "#Q. Find the 5th and 95th percentile of iris's sepallength\n",
    "\n",
    "url = 'C:/Users/Deepak Sadanandan/Desktop/iris.data'\n",
    "iris = np.genfromtxt(url, delimiter=',', dtype='float',usecols=[0])\n",
    "\n",
    "np.percentile(iris, q=[5, 95])"
   ]
  },
  {
   "cell_type": "code",
   "execution_count": 123,
   "metadata": {},
   "outputs": [
    {
     "name": "stdout",
     "output_type": "stream",
     "text": [
      "[[b'5.1' b'3.5' b'1.4' b'0.2' b'Iris-setosa']\n",
      " [b'4.9' b'3.0' b'1.4' b'0.2' b'Iris-setosa']\n",
      " [b'4.7' b'3.2' b'1.3' b'0.2' b'Iris-setosa']\n",
      " [b'4.6' b'3.1' b'1.5' b'0.2' b'Iris-setosa']\n",
      " [b'5.0' b'3.6' b'1.4' b'0.2' b'Iris-setosa']\n",
      " [b'5.4' b'3.9' b'1.7' b'0.4' b'Iris-setosa']\n",
      " [b'4.6' b'3.4' b'1.4' b'0.3' b'Iris-setosa']\n",
      " [b'5.0' b'3.4' b'1.5' b'0.2' b'Iris-setosa']\n",
      " [b'4.4' b'2.9' b'1.4' b'0.2' b'Iris-setosa']\n",
      " [b'4.9' b'3.1' b'1.5' b'0.1' b'Iris-setosa']\n",
      " [b'5.4' b'3.7' b'1.5' nan b'Iris-setosa']\n",
      " [b'4.8' b'3.4' b'1.6' b'0.2' b'Iris-setosa']\n",
      " [b'4.8' b'3.0' b'1.4' b'0.1' b'Iris-setosa']\n",
      " [b'4.3' b'3.0' b'1.1' b'0.1' b'Iris-setosa']\n",
      " [b'5.8' b'4.0' b'1.2' b'0.2' b'Iris-setosa']\n",
      " [b'5.7' b'4.4' nan b'0.4' b'Iris-setosa']\n",
      " [b'5.4' b'3.9' b'1.3' b'0.4' b'Iris-setosa']\n",
      " [b'5.1' b'3.5' b'1.4' nan b'Iris-setosa']\n",
      " [b'5.7' b'3.8' b'1.7' nan b'Iris-setosa']\n",
      " [b'5.1' b'3.8' b'1.5' b'0.3' b'Iris-setosa']\n",
      " [b'5.4' b'3.4' b'1.7' b'0.2' b'Iris-setosa']\n",
      " [b'5.1' b'3.7' b'1.5' b'0.4' b'Iris-setosa']\n",
      " [b'4.6' b'3.6' b'1.0' b'0.2' b'Iris-setosa']\n",
      " [b'5.1' b'3.3' b'1.7' b'0.5' b'Iris-setosa']\n",
      " [b'4.8' b'3.4' b'1.9' b'0.2' b'Iris-setosa']\n",
      " [b'5.0' b'3.0' b'1.6' b'0.2' b'Iris-setosa']\n",
      " [b'5.0' b'3.4' b'1.6' b'0.4' b'Iris-setosa']\n",
      " [b'5.2' b'3.5' b'1.5' b'0.2' b'Iris-setosa']\n",
      " [b'5.2' b'3.4' b'1.4' b'0.2' nan]\n",
      " [b'4.7' b'3.2' b'1.6' b'0.2' b'Iris-setosa']\n",
      " [b'4.8' b'3.1' b'1.6' b'0.2' b'Iris-setosa']\n",
      " [b'5.4' b'3.4' b'1.5' b'0.4' b'Iris-setosa']\n",
      " [b'5.2' b'4.1' b'1.5' b'0.1' b'Iris-setosa']\n",
      " [b'5.5' b'4.2' b'1.4' b'0.2' b'Iris-setosa']\n",
      " [b'4.9' b'3.1' b'1.5' b'0.1' b'Iris-setosa']\n",
      " [b'5.0' b'3.2' b'1.2' b'0.2' b'Iris-setosa']\n",
      " [b'5.5' b'3.5' b'1.3' b'0.2' b'Iris-setosa']\n",
      " [b'4.9' b'3.1' b'1.5' b'0.1' b'Iris-setosa']\n",
      " [b'4.4' b'3.0' b'1.3' b'0.2' b'Iris-setosa']\n",
      " [b'5.1' b'3.4' b'1.5' b'0.2' b'Iris-setosa']\n",
      " [b'5.0' b'3.5' b'1.3' b'0.3' b'Iris-setosa']\n",
      " [b'4.5' b'2.3' b'1.3' b'0.3' b'Iris-setosa']\n",
      " [b'4.4' b'3.2' b'1.3' b'0.2' b'Iris-setosa']\n",
      " [b'5.0' b'3.5' b'1.6' b'0.6' b'Iris-setosa']\n",
      " [b'5.1' b'3.8' b'1.9' b'0.4' b'Iris-setosa']\n",
      " [nan b'3.0' b'1.4' b'0.3' b'Iris-setosa']\n",
      " [b'5.1' b'3.8' b'1.6' b'0.2' b'Iris-setosa']\n",
      " [b'4.6' b'3.2' b'1.4' b'0.2' b'Iris-setosa']\n",
      " [b'5.3' b'3.7' b'1.5' b'0.2' b'Iris-setosa']\n",
      " [b'5.0' b'3.3' b'1.4' b'0.2' b'Iris-setosa']\n",
      " [b'7.0' b'3.2' b'4.7' b'1.4' b'Iris-versicolor']\n",
      " [b'6.4' b'3.2' b'4.5' b'1.5' b'Iris-versicolor']\n",
      " [b'6.9' b'3.1' b'4.9' b'1.5' b'Iris-versicolor']\n",
      " [b'5.5' b'2.3' b'4.0' b'1.3' b'Iris-versicolor']\n",
      " [b'6.5' b'2.8' b'4.6' b'1.5' b'Iris-versicolor']\n",
      " [b'5.7' b'2.8' b'4.5' b'1.3' b'Iris-versicolor']\n",
      " [nan b'3.3' b'4.7' b'1.6' b'Iris-versicolor']\n",
      " [b'4.9' b'2.4' b'3.3' b'1.0' b'Iris-versicolor']\n",
      " [b'6.6' b'2.9' b'4.6' b'1.3' b'Iris-versicolor']\n",
      " [b'5.2' b'2.7' b'3.9' b'1.4' b'Iris-versicolor']\n",
      " [b'5.0' b'2.0' b'3.5' b'1.0' b'Iris-versicolor']\n",
      " [b'5.9' b'3.0' b'4.2' b'1.5' b'Iris-versicolor']\n",
      " [b'6.0' b'2.2' b'4.0' b'1.0' b'Iris-versicolor']\n",
      " [b'6.1' nan b'4.7' b'1.4' b'Iris-versicolor']\n",
      " [b'5.6' b'2.9' b'3.6' b'1.3' b'Iris-versicolor']\n",
      " [b'6.7' b'3.1' b'4.4' b'1.4' b'Iris-versicolor']\n",
      " [b'5.6' b'3.0' b'4.5' b'1.5' b'Iris-versicolor']\n",
      " [b'5.8' b'2.7' b'4.1' b'1.0' b'Iris-versicolor']\n",
      " [b'6.2' b'2.2' b'4.5' b'1.5' b'Iris-versicolor']\n",
      " [b'5.6' b'2.5' b'3.9' b'1.1' b'Iris-versicolor']\n",
      " [b'5.9' b'3.2' b'4.8' b'1.8' nan]\n",
      " [b'6.1' b'2.8' b'4.0' b'1.3' b'Iris-versicolor']\n",
      " [b'6.3' b'2.5' b'4.9' b'1.5' b'Iris-versicolor']\n",
      " [b'6.1' b'2.8' b'4.7' b'1.2' b'Iris-versicolor']\n",
      " [b'6.4' b'2.9' b'4.3' b'1.3' b'Iris-versicolor']\n",
      " [b'6.6' b'3.0' b'4.4' b'1.4' b'Iris-versicolor']\n",
      " [b'6.8' b'2.8' b'4.8' b'1.4' b'Iris-versicolor']\n",
      " [b'6.7' nan b'5.0' b'1.7' b'Iris-versicolor']\n",
      " [b'6.0' b'2.9' b'4.5' b'1.5' b'Iris-versicolor']\n",
      " [b'5.7' b'2.6' b'3.5' b'1.0' b'Iris-versicolor']\n",
      " [b'5.5' b'2.4' b'3.8' b'1.1' b'Iris-versicolor']\n",
      " [b'5.5' b'2.4' b'3.7' b'1.0' b'Iris-versicolor']\n",
      " [b'5.8' b'2.7' b'3.9' b'1.2' b'Iris-versicolor']\n",
      " [b'6.0' b'2.7' b'5.1' nan b'Iris-versicolor']\n",
      " [b'5.4' b'3.0' b'4.5' b'1.5' b'Iris-versicolor']\n",
      " [b'6.0' b'3.4' b'4.5' b'1.6' b'Iris-versicolor']\n",
      " [b'6.7' b'3.1' b'4.7' b'1.5' b'Iris-versicolor']\n",
      " [b'6.3' b'2.3' b'4.4' b'1.3' b'Iris-versicolor']\n",
      " [b'5.6' b'3.0' b'4.1' b'1.3' b'Iris-versicolor']\n",
      " [b'5.5' b'2.5' b'4.0' b'1.3' b'Iris-versicolor']\n",
      " [b'5.5' b'2.6' b'4.4' b'1.2' b'Iris-versicolor']\n",
      " [b'6.1' b'3.0' b'4.6' b'1.4' b'Iris-versicolor']\n",
      " [b'5.8' b'2.6' b'4.0' b'1.2' b'Iris-versicolor']\n",
      " [b'5.0' b'2.3' b'3.3' b'1.0' b'Iris-versicolor']\n",
      " [b'5.6' b'2.7' b'4.2' b'1.3' b'Iris-versicolor']\n",
      " [b'5.7' b'3.0' b'4.2' b'1.2' b'Iris-versicolor']\n",
      " [b'5.7' b'2.9' b'4.2' b'1.3' b'Iris-versicolor']\n",
      " [b'6.2' b'2.9' b'4.3' b'1.3' b'Iris-versicolor']\n",
      " [b'5.1' b'2.5' b'3.0' b'1.1' b'Iris-versicolor']\n",
      " [b'5.7' b'2.8' b'4.1' b'1.3' b'Iris-versicolor']\n",
      " [b'6.3' b'3.3' b'6.0' b'2.5' b'Iris-virginica']\n",
      " [b'5.8' b'2.7' nan b'1.9' b'Iris-virginica']\n",
      " [b'7.1' b'3.0' b'5.9' b'2.1' b'Iris-virginica']\n",
      " [b'6.3' b'2.9' b'5.6' b'1.8' b'Iris-virginica']\n",
      " [b'6.5' b'3.0' b'5.8' nan b'Iris-virginica']\n",
      " [b'7.6' nan b'6.6' b'2.1' b'Iris-virginica']\n",
      " [b'4.9' b'2.5' b'4.5' b'1.7' b'Iris-virginica']\n",
      " [b'7.3' b'2.9' b'6.3' b'1.8' b'Iris-virginica']\n",
      " [b'6.7' b'2.5' b'5.8' b'1.8' b'Iris-virginica']\n",
      " [b'7.2' b'3.6' b'6.1' b'2.5' b'Iris-virginica']\n",
      " [b'6.5' b'3.2' b'5.1' b'2.0' b'Iris-virginica']\n",
      " [b'6.4' b'2.7' b'5.3' b'1.9' b'Iris-virginica']\n",
      " [b'6.8' b'3.0' b'5.5' b'2.1' b'Iris-virginica']\n",
      " [b'5.7' b'2.5' b'5.0' b'2.0' b'Iris-virginica']\n",
      " [b'5.8' b'2.8' nan b'2.4' b'Iris-virginica']\n",
      " [nan b'3.2' b'5.3' b'2.3' b'Iris-virginica']\n",
      " [b'6.5' b'3.0' b'5.5' b'1.8' b'Iris-virginica']\n",
      " [b'7.7' b'3.8' b'6.7' b'2.2' b'Iris-virginica']\n",
      " [b'7.7' b'2.6' b'6.9' b'2.3' b'Iris-virginica']\n",
      " [b'6.0' b'2.2' b'5.0' b'1.5' b'Iris-virginica']\n",
      " [b'6.9' b'3.2' b'5.7' b'2.3' b'Iris-virginica']\n",
      " [b'5.6' b'2.8' b'4.9' b'2.0' b'Iris-virginica']\n",
      " [b'7.7' b'2.8' b'6.7' b'2.0' b'Iris-virginica']\n",
      " [b'6.3' b'2.7' b'4.9' b'1.8' b'Iris-virginica']\n",
      " [b'6.7' b'3.3' b'5.7' b'2.1' b'Iris-virginica']\n",
      " [b'7.2' b'3.2' b'6.0' b'1.8' b'Iris-virginica']\n",
      " [b'6.2' b'2.8' b'4.8' b'1.8' b'Iris-virginica']\n",
      " [b'6.1' b'3.0' b'4.9' b'1.8' b'Iris-virginica']\n",
      " [b'6.4' b'2.8' b'5.6' b'2.1' b'Iris-virginica']\n",
      " [b'7.2' b'3.0' b'5.8' nan b'Iris-virginica']\n",
      " [b'7.4' b'2.8' b'6.1' b'1.9' b'Iris-virginica']\n",
      " [b'7.9' b'3.8' nan b'2.0' b'Iris-virginica']\n",
      " [b'6.4' b'2.8' b'5.6' b'2.2' b'Iris-virginica']\n",
      " [b'6.3' b'2.8' b'5.1' nan b'Iris-virginica']\n",
      " [b'6.1' b'2.6' b'5.6' b'1.4' b'Iris-virginica']\n",
      " [b'7.7' b'3.0' b'6.1' b'2.3' b'Iris-virginica']\n",
      " [b'6.3' b'3.4' b'5.6' b'2.4' b'Iris-virginica']\n",
      " [b'6.4' b'3.1' b'5.5' b'1.8' b'Iris-virginica']\n",
      " [b'6.0' b'3.0' b'4.8' b'1.8' b'Iris-virginica']\n",
      " [b'6.9' b'3.1' b'5.4' b'2.1' b'Iris-virginica']\n",
      " [b'6.7' b'3.1' b'5.6' b'2.4' b'Iris-virginica']\n",
      " [b'6.9' b'3.1' b'5.1' b'2.3' b'Iris-virginica']\n",
      " [b'5.8' b'2.7' b'5.1' b'1.9' b'Iris-virginica']\n",
      " [b'6.8' b'3.2' b'5.9' b'2.3' b'Iris-virginica']\n",
      " [b'6.7' b'3.3' b'5.7' b'2.5' b'Iris-virginica']\n",
      " [b'6.7' b'3.0' b'5.2' b'2.3' b'Iris-virginica']\n",
      " [b'6.3' b'2.5' b'5.0' b'1.9' b'Iris-virginica']\n",
      " [b'6.5' b'3.0' b'5.2' b'2.0' nan]\n",
      " [b'6.2' b'3.4' b'5.4' b'2.3' b'Iris-virginica']\n",
      " [b'5.9' b'3.0' b'5.1' b'1.8' b'Iris-virginica']]\n"
     ]
    }
   ],
   "source": [
    "#32. How to insert values at random positions in an array?\n",
    "\n",
    "#Q. Insert np.nan values at 20 random positions in iris_2d dataset\n",
    "\n",
    "url = 'C:/Users/Deepak Sadanandan/Desktop/iris.data'\n",
    "iris = np.genfromtxt(url, delimiter=',', dtype='object')\n",
    "\n",
    "i,j = np.where(iris) #rows and columns\n",
    "\n",
    "np.random.seed(100)\n",
    "#iris[np.random.choice((i), 20), np.random.choice((j), 20)] = np.nan\n",
    "iris[np.random.randint(150, size=20), np.random.randint(4, size=20)] = np.nan\n",
    "print(iris)\n"
   ]
  },
  {
   "cell_type": "code",
   "execution_count": 9,
   "metadata": {},
   "outputs": [
    {
     "name": "stdout",
     "output_type": "stream",
     "text": [
      "(array([ 14,  18,  19,  29,  34,  36,  63,  69,  73,  81,  84,  91,  96,\n",
      "       117, 123, 134, 143], dtype=int64),)\n"
     ]
    },
    {
     "data": {
      "text/plain": [
       "array([5.1, 4.9, 4.7, 4.6, 5. , 5.4, 4.6, 5. , 4.4, 4.9, 5.4, 4.8, 4.8,\n",
       "       4.3, nan, 5.7, 5.4, 5.1, nan, nan, 5.4, 5.1, 4.6, 5.1, 4.8, 5. ,\n",
       "       5. , 5.2, 5.2, nan, 4.8, 5.4, 5.2, 5.5, nan, 5. , nan, 4.9, 4.4,\n",
       "       5.1, 5. , 4.5, 4.4, 5. , 5.1, 4.8, 5.1, 4.6, 5.3, 5. , 7. , 6.4,\n",
       "       6.9, 5.5, 6.5, 5.7, 6.3, 4.9, 6.6, 5.2, 5. , 5.9, 6. , nan, 5.6,\n",
       "       6.7, 5.6, 5.8, 6.2, nan, 5.9, 6.1, 6.3, nan, 6.4, 6.6, 6.8, 6.7,\n",
       "       6. , 5.7, 5.5, nan, 5.8, 6. , nan, 6. , 6.7, 6.3, 5.6, 5.5, 5.5,\n",
       "       nan, 5.8, 5. , 5.6, 5.7, nan, 6.2, 5.1, 5.7, 6.3, 5.8, 7.1, 6.3,\n",
       "       6.5, 7.6, 4.9, 7.3, 6.7, 7.2, 6.5, 6.4, 6.8, 5.7, 5.8, 6.4, 6.5,\n",
       "       nan, 7.7, 6. , 6.9, 5.6, 7.7, nan, 6.7, 7.2, 6.2, 6.1, 6.4, 7.2,\n",
       "       7.4, 7.9, 6.4, 6.3, nan, 7.7, 6.3, 6.4, 6. , 6.9, 6.7, 6.9, 5.8,\n",
       "       nan, 6.7, 6.7, 6.3, 6.5, 6.2, 5.9])"
      ]
     },
     "execution_count": 9,
     "metadata": {},
     "output_type": "execute_result"
    }
   ],
   "source": [
    "#33. How to find the position of missing values in numpy array?\n",
    "\n",
    "#Q. Find the number and position of missing values in iris_2d's sepallength (1st column)\n",
    "\n",
    "url = 'C:/Users/Deepak Sadanandan/Desktop/iris.data'\n",
    "#iris = np.genfromtxt(url, delimiter=',', dtype='float',usecols=[0,1,2,3])\n",
    "#iris[np.random.randint(150, size=20), np.random.randint(4, size=20)] = np.nan\n",
    "\n",
    "iris = np.genfromtxt(url, delimiter=',', dtype='float',usecols=[0])\n",
    "iris[np.random.randint(150, size=20)] = np.nan\n",
    "\n",
    "\n",
    "np.isnan(iris[:]).sum()\n",
    "np.isnan(iris[:])\n",
    "print(np.where(np.isnan(iris[:])))\n",
    "iris\n"
   ]
  },
  {
   "cell_type": "code",
   "execution_count": 22,
   "metadata": {},
   "outputs": [
    {
     "data": {
      "text/plain": [
       "array([[4.8, 3.4, 1.6, 0.2],\n",
       "       [4.8, 3.4, 1.9, 0.2],\n",
       "       [4.7, 3.2, 1.6, 0.2],\n",
       "       [4.8, 3.1, 1.6, 0.2],\n",
       "       [4.9, 2.4, 3.3, 1. ],\n",
       "       [4.9, 2.5, 4.5, 1.7]])"
      ]
     },
     "execution_count": 22,
     "metadata": {},
     "output_type": "execute_result"
    }
   ],
   "source": [
    "#34. How to filter a numpy array based on two or more conditions?\n",
    "\n",
    "#Q. Filter the rows of iris_2d that has petallength (3rd column) > 1.5 \n",
    "# and sepallength (1st column) < 5.0\n",
    "\n",
    "url = 'C:/Users/Deepak Sadanandan/Desktop/iris.data'\n",
    "iris = np.genfromtxt(url, delimiter=',', dtype='float',usecols=[0,1,2,3])\n",
    "\n",
    "#print(iris[:10])\n",
    "\n",
    "#iris[np.where((iris[:,0]<5))]\n",
    "iris[np.where((iris[:,2]>1.5)&(iris[:,0]<5))]\n",
    "\n",
    "#iris\n"
   ]
  },
  {
   "cell_type": "code",
   "execution_count": 4,
   "metadata": {},
   "outputs": [
    {
     "data": {
      "text/plain": [
       "array([], shape=(0, 4), dtype=float64)"
      ]
     },
     "execution_count": 4,
     "metadata": {},
     "output_type": "execute_result"
    }
   ],
   "source": [
    "#35. How to drop rows that contain a missing value from a numpy array?\n",
    "\n",
    "#Q. Select the rows of iris_2d that does not have any nan value\n",
    "\n",
    "url = 'C:/Users/Deepak Sadanandan/Desktop/iris.data'\n",
    "iris = np.genfromtxt(url, delimiter=',', dtype='float',usecols=[0,1,2,3])\n",
    "iris[np.random.randint(150, size=20), np.random.randint(4, size=20)] = np.nan\n",
    "\n",
    "\n",
    "#print(np.array (np.where((iris[:]))) ) # this gives all the index\n",
    "#print(np.array(np.where(np.isnan(iris[:])))) # this gives the index of all the nan\n",
    "\n",
    "iris[np.setdiff1d((np.array(np.where(iris[:]))),(np.array(np.where(np.isnan(iris[:])))))]\n",
    "\n",
    "\n",
    "\n"
   ]
  },
  {
   "cell_type": "code",
   "execution_count": 9,
   "metadata": {},
   "outputs": [
    {
     "name": "stdout",
     "output_type": "stream",
     "text": [
      "[[5.1 3.5 1.4 0.2]\n",
      " [4.9 3.  1.4 0.2]\n",
      " [4.7 3.2 1.3 0.2]\n",
      " [4.6 3.1 1.5 0.2]\n",
      " [5.  3.6 1.4 0.2]]\n",
      "[5.1 4.9 4.7 4.6 5. ]\n",
      "[1.4 1.4 1.3 1.5 1.4]\n"
     ]
    },
    {
     "data": {
      "text/plain": [
       "0.8717541573048718"
      ]
     },
     "execution_count": 9,
     "metadata": {},
     "output_type": "execute_result"
    }
   ],
   "source": [
    "#36.How to find the correlation between two columns of a numpy array?\n",
    "\n",
    "#Q. Find the correlation between SepalLength(1st column) and PetalLength(3rd column) in iris_2d\n",
    "\n",
    "url = 'C:/Users/Deepak Sadanandan/Desktop/iris.data'\n",
    "iris = np.genfromtxt(url, delimiter=',', dtype='float',usecols=[0,1,2,3])\n",
    "\n",
    "print(iris[:5])\n",
    "print(iris[:5, 0])\n",
    "print(iris[:5, 2])\n",
    "\n",
    "np.cov(iris[:, 0], iris[:, 2])\n",
    "np.corrcoef(iris[:, 0], iris[:, 2])[0,1]\n",
    "\n",
    "\n"
   ]
  },
  {
   "cell_type": "code",
   "execution_count": 11,
   "metadata": {},
   "outputs": [
    {
     "data": {
      "text/plain": [
       "True"
      ]
     },
     "execution_count": 11,
     "metadata": {},
     "output_type": "execute_result"
    }
   ],
   "source": [
    "#37. How to find if a given array has any null values?\n",
    "\n",
    "#Q. Find out if iris_2d has any missing values.\n",
    "url = 'C:/Users/Deepak Sadanandan/Desktop/iris.data'\n",
    "iris = np.genfromtxt(url, delimiter=',', dtype='float',usecols=[0,1,2,3])\n",
    "iris[np.random.randint(150, size=20), np.random.randint(4, size=20)] = np.nan\n",
    "\n",
    "np.isnan(iris).any()"
   ]
  },
  {
   "cell_type": "code",
   "execution_count": 15,
   "metadata": {},
   "outputs": [
    {
     "name": "stdout",
     "output_type": "stream",
     "text": [
      "[[5.7 4.4 1.5 0.4]\n",
      " [5.4 3.9 1.3 0.4]\n",
      " [5.1 3.5 1.4 0.3]\n",
      " [nan 3.8 1.7 0.3]\n",
      " [5.1 3.8 1.5 0.3]]\n"
     ]
    },
    {
     "data": {
      "text/plain": [
       "array([[5.7, 4.4, 1.5, 0.4],\n",
       "       [5.4, 3.9, 1.3, 0.4],\n",
       "       [5.1, 3.5, 1.4, 0.3],\n",
       "       [0. , 3.8, 1.7, 0.3],\n",
       "       [5.1, 3.8, 1.5, 0.3]])"
      ]
     },
     "execution_count": 15,
     "metadata": {},
     "output_type": "execute_result"
    }
   ],
   "source": [
    "#38. How to replace all missing values with 0 in a numpy array?\n",
    "\n",
    "#Q. Replace all ccurrences of nan with 0 in numpy array\n",
    "url = 'C:/Users/Deepak Sadanandan/Desktop/iris.data'\n",
    "iris = np.genfromtxt(url, delimiter=',', dtype='float',usecols=[0,1,2,3])\n",
    "iris[np.random.randint(150, size=20), np.random.randint(4, size=20)] = np.nan\n",
    "\n",
    "print(iris[15:20])\n",
    "iris[np.isnan(iris)] = 0\n",
    "iris[15:20]"
   ]
  },
  {
   "cell_type": "code",
   "execution_count": 17,
   "metadata": {},
   "outputs": [
    {
     "data": {
      "text/plain": [
       "(array([b'Iris-setosa', b'Iris-versicolor', b'Iris-virginica'],\n",
       "       dtype=object), array([50, 50, 50], dtype=int64))"
      ]
     },
     "execution_count": 17,
     "metadata": {},
     "output_type": "execute_result"
    }
   ],
   "source": [
    "#39. How to find the count of unique values in a numpy array?\n",
    "\n",
    "#Q. Find the unique values and the count of unique values in iris's species\n",
    "\n",
    "url = 'C:/Users/Deepak Sadanandan/Desktop/iris.data'\n",
    "iris = np.genfromtxt(url, delimiter=',', dtype='object')\n",
    "names = ('sepallength', 'sepalwidth', 'petallength', 'petalwidth', 'species')\n",
    "\n",
    "np.unique(iris[:,4], return_counts=True)"
   ]
  },
  {
   "cell_type": "code",
   "execution_count": 20,
   "metadata": {},
   "outputs": [
    {
     "data": {
      "text/plain": [
       "['medium', 'medium', 'medium', 'medium', 'medium']"
      ]
     },
     "execution_count": 20,
     "metadata": {},
     "output_type": "execute_result"
    }
   ],
   "source": [
    "#40. How to convert a numeric to a categorical (text) array?\n",
    "\n",
    "#Q. Bin the petal length (3rd) column of iris_2d to form a text array, such that if petal length is:\n",
    "#Less than 3 --> 'small'\n",
    "#3-5 --> 'medium'\n",
    "#'>=5 --> 'large'\n",
    "\n",
    "url = 'C:/Users/Deepak Sadanandan/Desktop/iris.data'\n",
    "iris = np.genfromtxt(url, delimiter=',', dtype='object')\n",
    "names = ('sepallength', 'sepalwidth', 'petallength', 'petalwidth', 'species')\n",
    "\n",
    "#np.digitize(iris[:, 2].astype('float'), [0, 3, 6, 10])\n",
    "\n",
    "label = {1: 'small', 2: 'medium', 3: 'large', 4: np.nan}\n",
    "petal_length_cat = [label[x] for x in np.digitize(iris[:, 2].astype('float'), [0, 1, 3, 10])]\n",
    "petal_length_cat[:5]"
   ]
  },
  {
   "cell_type": "code",
   "execution_count": 26,
   "metadata": {},
   "outputs": [
    {
     "name": "stdout",
     "output_type": "stream",
     "text": [
      "1\n",
      "(150,)\n",
      "150\n"
     ]
    },
    {
     "data": {
      "text/plain": [
       "array([[b'5.1', b'3.5', b'1.4', b'0.2', b'Iris-setosa',\n",
       "        38.13265162927291],\n",
       "       [b'4.9', b'3.0', b'1.4', b'0.2', b'Iris-setosa',\n",
       "        35.200498485922445],\n",
       "       [b'4.7', b'3.2', b'1.3', b'0.2', b'Iris-setosa', 30.0723720777127],\n",
       "       [b'4.6', b'3.1', b'1.5', b'0.2', b'Iris-setosa',\n",
       "        33.238050274980004],\n",
       "       [b'5.0', b'3.6', b'1.4', b'0.2', b'Iris-setosa',\n",
       "        36.65191429188092]], dtype=object)"
      ]
     },
     "execution_count": 26,
     "metadata": {},
     "output_type": "execute_result"
    }
   ],
   "source": [
    "#41. How to create a new column from existing columns of a numpy array?\n",
    "#Q. Create a new column for volume in iris_2d, where volume is (pi x petallength x sepal_length^2)/3\n",
    "\n",
    "url = 'C:/Users/Deepak Sadanandan/Desktop/iris.data'\n",
    "iris = np.genfromtxt(url, delimiter=',', dtype='object')\n",
    "names = ('sepallength', 'sepalwidth', 'petallength', 'petalwidth', 'species')\n",
    "\n",
    "sepallength = iris[:, 0].astype('float')\n",
    "petallength = iris[:, 2].astype('float')\n",
    "volume = (np.pi * petallength * (sepallength**2))/3\n",
    "\n",
    "print(volume.ndim) \n",
    "print(volume.shape) \n",
    "print(volume.size) \n",
    "\n",
    "out = np.hstack([iris, volume[:, np.newaxis]])\n",
    "out[:5]\n",
    "\n",
    "\n"
   ]
  },
  {
   "cell_type": "code",
   "execution_count": 28,
   "metadata": {},
   "outputs": [
    {
     "name": "stdout",
     "output_type": "stream",
     "text": [
      "1\n",
      "(150,)\n",
      "150\n"
     ]
    },
    {
     "data": {
      "text/plain": [
       "array([[b'5.1', b'3.5', b'1.4', b'0.2', b'Iris-setosa',\n",
       "        38.13265162927291],\n",
       "       [b'4.9', b'3.0', b'1.4', b'0.2', b'Iris-setosa',\n",
       "        35.200498485922445],\n",
       "       [b'4.7', b'3.2', b'1.3', b'0.2', b'Iris-setosa', 30.0723720777127],\n",
       "       [b'4.6', b'3.1', b'1.5', b'0.2', b'Iris-setosa',\n",
       "        33.238050274980004],\n",
       "       [b'5.0', b'3.6', b'1.4', b'0.2', b'Iris-setosa',\n",
       "        36.65191429188092]], dtype=object)"
      ]
     },
     "execution_count": 28,
     "metadata": {},
     "output_type": "execute_result"
    }
   ],
   "source": [
    "#42. How to do probabilistic sampling in numpy?\n",
    "#Q. Randomly sample iris's species such that setose is twice the number of versicolor and virginica\n",
    "\n",
    "url = 'C:/Users/Deepak Sadanandan/Desktop/iris.data'\n",
    "iris = np.genfromtxt(url, delimiter=',', dtype='object')\n",
    "names = ('sepallength', 'sepalwidth', 'petallength', 'petalwidth', 'species')\n",
    "\n",
    "sepallength = iris[:, 0].astype('float')\n",
    "petallength = iris[:, 2].astype('float')\n",
    "species = iris[:, 4].astype('str')\n",
    "\n",
    "out = np.hstack([iris, volume[:, np.newaxis]])\n",
    "out[:5]\n",
    "\n",
    "\n"
   ]
  }
 ],
 "metadata": {
  "kernelspec": {
   "display_name": "Python 3",
   "language": "python",
   "name": "python3"
  },
  "language_info": {
   "codemirror_mode": {
    "name": "ipython",
    "version": 3
   },
   "file_extension": ".py",
   "mimetype": "text/x-python",
   "name": "python",
   "nbconvert_exporter": "python",
   "pygments_lexer": "ipython3",
   "version": "3.7.3"
  }
 },
 "nbformat": 4,
 "nbformat_minor": 2
}
